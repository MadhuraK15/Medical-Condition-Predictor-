{
 "cells": [
  {
   "cell_type": "code",
   "execution_count": 3,
   "metadata": {},
   "outputs": [],
   "source": [
    "import numpy as np \n",
    "import pandas as pd \n",
    "import matplotlib.pyplot as plt\n",
    "import seaborn as sns \n",
    "import warnings\n",
    "warnings.filterwarnings('ignore')"
   ]
  },
  {
   "cell_type": "code",
   "execution_count": 4,
   "metadata": {},
   "outputs": [],
   "source": [
    "df = pd.read_csv(r\"drugsComTrain_raw.csv\")"
   ]
  },
  {
   "cell_type": "code",
   "execution_count": 3,
   "metadata": {},
   "outputs": [
    {
     "data": {
      "text/html": [
       "<div>\n",
       "<style scoped>\n",
       "    .dataframe tbody tr th:only-of-type {\n",
       "        vertical-align: middle;\n",
       "    }\n",
       "\n",
       "    .dataframe tbody tr th {\n",
       "        vertical-align: top;\n",
       "    }\n",
       "\n",
       "    .dataframe thead th {\n",
       "        text-align: right;\n",
       "    }\n",
       "</style>\n",
       "<table border=\"1\" class=\"dataframe\">\n",
       "  <thead>\n",
       "    <tr style=\"text-align: right;\">\n",
       "      <th></th>\n",
       "      <th>uniqueID</th>\n",
       "      <th>drugName</th>\n",
       "      <th>condition</th>\n",
       "      <th>review</th>\n",
       "      <th>rating</th>\n",
       "      <th>date</th>\n",
       "      <th>usefulCount</th>\n",
       "    </tr>\n",
       "  </thead>\n",
       "  <tbody>\n",
       "    <tr>\n",
       "      <th>0</th>\n",
       "      <td>206461</td>\n",
       "      <td>Valsartan</td>\n",
       "      <td>Left Ventricular Dysfunction</td>\n",
       "      <td>\"It has no side effect, I take it in combinati...</td>\n",
       "      <td>9</td>\n",
       "      <td>20-May-12</td>\n",
       "      <td>27</td>\n",
       "    </tr>\n",
       "    <tr>\n",
       "      <th>1</th>\n",
       "      <td>95260</td>\n",
       "      <td>Guanfacine</td>\n",
       "      <td>ADHD</td>\n",
       "      <td>\"My son is halfway through his fourth week of ...</td>\n",
       "      <td>8</td>\n",
       "      <td>27-Apr-10</td>\n",
       "      <td>192</td>\n",
       "    </tr>\n",
       "    <tr>\n",
       "      <th>2</th>\n",
       "      <td>92703</td>\n",
       "      <td>Lybrel</td>\n",
       "      <td>Birth Control</td>\n",
       "      <td>\"I used to take another oral contraceptive, wh...</td>\n",
       "      <td>5</td>\n",
       "      <td>14-Dec-09</td>\n",
       "      <td>17</td>\n",
       "    </tr>\n",
       "    <tr>\n",
       "      <th>3</th>\n",
       "      <td>138000</td>\n",
       "      <td>Ortho Evra</td>\n",
       "      <td>Birth Control</td>\n",
       "      <td>\"This is my first time using any form of birth...</td>\n",
       "      <td>8</td>\n",
       "      <td>3-Nov-15</td>\n",
       "      <td>10</td>\n",
       "    </tr>\n",
       "    <tr>\n",
       "      <th>4</th>\n",
       "      <td>35696</td>\n",
       "      <td>Buprenorphine / naloxone</td>\n",
       "      <td>Opiate Dependence</td>\n",
       "      <td>\"Suboxone has completely turned my life around...</td>\n",
       "      <td>9</td>\n",
       "      <td>27-Nov-16</td>\n",
       "      <td>37</td>\n",
       "    </tr>\n",
       "  </tbody>\n",
       "</table>\n",
       "</div>"
      ],
      "text/plain": [
       "   uniqueID                  drugName                     condition  \\\n",
       "0    206461                 Valsartan  Left Ventricular Dysfunction   \n",
       "1     95260                Guanfacine                          ADHD   \n",
       "2     92703                    Lybrel                 Birth Control   \n",
       "3    138000                Ortho Evra                 Birth Control   \n",
       "4     35696  Buprenorphine / naloxone             Opiate Dependence   \n",
       "\n",
       "                                              review  rating       date  \\\n",
       "0  \"It has no side effect, I take it in combinati...       9  20-May-12   \n",
       "1  \"My son is halfway through his fourth week of ...       8  27-Apr-10   \n",
       "2  \"I used to take another oral contraceptive, wh...       5  14-Dec-09   \n",
       "3  \"This is my first time using any form of birth...       8   3-Nov-15   \n",
       "4  \"Suboxone has completely turned my life around...       9  27-Nov-16   \n",
       "\n",
       "   usefulCount  \n",
       "0           27  \n",
       "1          192  \n",
       "2           17  \n",
       "3           10  \n",
       "4           37  "
      ]
     },
     "execution_count": 3,
     "metadata": {},
     "output_type": "execute_result"
    }
   ],
   "source": [
    "df.head(5)"
   ]
  },
  {
   "cell_type": "code",
   "execution_count": 4,
   "metadata": {},
   "outputs": [
    {
     "data": {
      "text/plain": [
       "(161297, 7)"
      ]
     },
     "execution_count": 4,
     "metadata": {},
     "output_type": "execute_result"
    }
   ],
   "source": [
    "df.shape"
   ]
  },
  {
   "cell_type": "code",
   "execution_count": 5,
   "metadata": {},
   "outputs": [
    {
     "name": "stdout",
     "output_type": "stream",
     "text": [
      "<class 'pandas.core.frame.DataFrame'>\n",
      "RangeIndex: 161297 entries, 0 to 161296\n",
      "Data columns (total 7 columns):\n",
      " #   Column       Non-Null Count   Dtype \n",
      "---  ------       --------------   ----- \n",
      " 0   uniqueID     161297 non-null  int64 \n",
      " 1   drugName     161297 non-null  object\n",
      " 2   condition    160398 non-null  object\n",
      " 3   review       161297 non-null  object\n",
      " 4   rating       161297 non-null  int64 \n",
      " 5   date         161297 non-null  object\n",
      " 6   usefulCount  161297 non-null  int64 \n",
      "dtypes: int64(3), object(4)\n",
      "memory usage: 8.6+ MB\n"
     ]
    }
   ],
   "source": [
    "df.info()"
   ]
  },
  {
   "cell_type": "code",
   "execution_count": 6,
   "metadata": {},
   "outputs": [
    {
     "data": {
      "text/plain": [
       "uniqueID         0\n",
       "drugName         0\n",
       "condition      899\n",
       "review           0\n",
       "rating           0\n",
       "date             0\n",
       "usefulCount      0\n",
       "dtype: int64"
      ]
     },
     "execution_count": 6,
     "metadata": {},
     "output_type": "execute_result"
    }
   ],
   "source": [
    "df.isnull().sum()"
   ]
  },
  {
   "cell_type": "markdown",
   "metadata": {},
   "source": [
    "The dataset shows that there are missing values in the condition column, with 899 entries lacking this information. All other columns, including drugName, review, rating, date, and usefulCount, have no missing values."
   ]
  },
  {
   "cell_type": "code",
   "execution_count": 7,
   "metadata": {},
   "outputs": [],
   "source": [
    "df.dropna(inplace=True,axis=0)"
   ]
  },
  {
   "cell_type": "markdown",
   "metadata": {},
   "source": [
    "dropped null values in the \"condition\" column because the dataset contains a large number of entries (161,297), and the missing values in the \"condition\" column (899 entries) represent a relatively small portion. Removing these entries helps maintain data integrity and ensures the analysis is conducted on a dataset with complete information for the specified column."
   ]
  },
  {
   "cell_type": "code",
   "execution_count": 8,
   "metadata": {},
   "outputs": [
    {
     "name": "stdout",
     "output_type": "stream",
     "text": [
      "Number of Unique Drugs present in the Dataset : 3431\n",
      "Number of Unique Medical Conditions present in the Dataset : 884\n"
     ]
    }
   ],
   "source": [
    "print(\"Number of Unique Drugs present in the Dataset :\", df['drugName'].nunique())\n",
    "print(\"Number of Unique Medical Conditions present in the Dataset :\", df['condition'].nunique())"
   ]
  },
  {
   "cell_type": "code",
   "execution_count": 9,
   "metadata": {},
   "outputs": [
    {
     "data": {
      "image/png": "[encoded data removed]",
      "text/plain": [
       "<Figure size 1000x500 with 1 Axes>"
      ]
     },
     "metadata": {},
     "output_type": "display_data"
    }
   ],
   "source": [
    "top_conditions = df['condition'].value_counts().sort_values(ascending=False)[:10]\n",
    "top_conditions.plot(kind='bar', figsize=(10, 5), color='lightgreen')\n",
    "plt.title('Top 10 Reviewed Conditions')\n",
    "plt.xlabel('Condition')\n",
    "plt.ylabel('Number of Reviews')\n",
    "plt.xticks()\n",
    "plt.show()"
   ]
  },
  {
   "cell_type": "markdown",
   "metadata": {},
   "source": [
    "\n",
    "This  bar chart to visually present the top 10 reviewed medical conditions in the dataset. The value_counts() method is used to count the occurrences of each unique condition, and sort_values(ascending=False) arranges them in descending order based on the review counts. The resulting top 10 conditions are then plotted as a bar chart using plot(kind='bar').\n",
    "\n",
    "The graph provides a clear and concise overview of the distribution of reviews across different medical conditions"
   ]
  },
  {
   "cell_type": "code",
   "execution_count": null,
   "metadata": {},
   "outputs": [],
   "source": []
  },
  {
   "cell_type": "code",
   "execution_count": 10,
   "metadata": {},
   "outputs": [],
   "source": [
    "df['date'] = pd.to_datetime(df['date'])"
   ]
  },
  {
   "cell_type": "code",
   "execution_count": 11,
   "metadata": {},
   "outputs": [],
   "source": [
    "df['year'] = df['date'].dt.year"
   ]
  },
  {
   "cell_type": "code",
   "execution_count": 12,
   "metadata": {},
   "outputs": [
    {
     "data": {
      "image/png": "[encoded data removed]",
      "text/plain": [
       "<Figure size 640x480 with 1 Axes>"
      ]
     },
     "metadata": {},
     "output_type": "display_data"
    }
   ],
   "source": [
    "reviews_by_year = df['year'].value_counts().sort_index()\n",
    "reviews_by_year.plot(kind='bar', color='skyblue')\n",
    "\n",
    "plt.title('Number of Reviews by Year')\n",
    "plt.xlabel('Year')\n",
    "plt.ylabel('Number of Reviews')\n",
    "plt.show()"
   ]
  },
  {
   "cell_type": "markdown",
   "metadata": {},
   "source": [
    "no of reviews became particularly popular or relevant in 2015, and while interest may have slightly declined in the following years, it remained significantly higher than before 2015"
   ]
  },
  {
   "cell_type": "code",
   "execution_count": 13,
   "metadata": {},
   "outputs": [
    {
     "name": "stdout",
     "output_type": "stream",
     "text": [
      "Requirement already satisfied: wordcloud in c:\\users\\hp\\anaconda3\\envs\\capstone\\lib\\site-packages (1.9.3)\n",
      "Requirement already satisfied: numpy>=1.6.1 in c:\\users\\hp\\anaconda3\\envs\\capstone\\lib\\site-packages (from wordcloud) (1.25.2)\n",
      "Requirement already satisfied: pillow in c:\\users\\hp\\anaconda3\\envs\\capstone\\lib\\site-packages (from wordcloud) (10.2.0)\n",
      "Requirement already satisfied: matplotlib in c:\\users\\hp\\anaconda3\\envs\\capstone\\lib\\site-packages (from wordcloud) (3.6.0)\n",
      "Requirement already satisfied: contourpy>=1.0.1 in c:\\users\\hp\\anaconda3\\envs\\capstone\\lib\\site-packages (from matplotlib->wordcloud) (1.2.0)\n",
      "Requirement already satisfied: cycler>=0.10 in c:\\users\\hp\\anaconda3\\envs\\capstone\\lib\\site-packages (from matplotlib->wordcloud) (0.12.1)\n",
      "Requirement already satisfied: fonttools>=4.22.0 in c:\\users\\hp\\anaconda3\\envs\\capstone\\lib\\site-packages (from matplotlib->wordcloud) (4.47.2)\n",
      "Requirement already satisfied: kiwisolver>=1.0.1 in c:\\users\\hp\\anaconda3\\envs\\capstone\\lib\\site-packages (from matplotlib->wordcloud) (1.4.5)\n",
      "Requirement already satisfied: packaging>=20.0 in c:\\users\\hp\\appdata\\roaming\\python\\python311\\site-packages (from matplotlib->wordcloud) (23.1)\n",
      "Requirement already satisfied: pyparsing>=2.2.1 in c:\\users\\hp\\anaconda3\\envs\\capstone\\lib\\site-packages (from matplotlib->wordcloud) (3.1.1)\n",
      "Requirement already satisfied: python-dateutil>=2.7 in c:\\users\\hp\\appdata\\roaming\\python\\python311\\site-packages (from matplotlib->wordcloud) (2.8.2)\n",
      "Requirement already satisfied: six>=1.5 in c:\\users\\hp\\appdata\\roaming\\python\\python311\\site-packages (from python-dateutil>=2.7->matplotlib->wordcloud) (1.16.0)\n"
     ]
    }
   ],
   "source": [
    "! pip install wordcloud\n",
    "from wordcloud import WordCloud"
   ]
  },
  {
   "cell_type": "code",
   "execution_count": 14,
   "metadata": {},
   "outputs": [
    {
     "data": {
      "image/png": "[encoded data removed]",
      "text/plain": [
       "<Figure size 1000x500 with 1 Axes>"
      ]
     },
     "metadata": {},
     "output_type": "display_data"
    }
   ],
   "source": [
    "drug_counts = df['review'].value_counts()\n",
    "wordcloud = WordCloud(width=800, height=400).generate_from_frequencies(drug_counts)\n",
    "plt.figure(figsize=(10, 5))\n",
    "plt.imshow(wordcloud, interpolation='bilinear')\n",
    "plt.axis('off')\n",
    "plt.show()"
   ]
  },
  {
   "cell_type": "markdown",
   "metadata": {},
   "source": [
    "word cloud from the frequency of words in a column named ‘review’. A word cloud is a visual representation of text data, where the size of each word indicates its frequency or importance. The image shows a word cloud with positive words and phrases, such as “Good”, “Great”, and “No side effects”. This suggests that the reviews are mostly favorable and satisfied with the medication or drugs."
   ]
  },
  {
   "cell_type": "code",
   "execution_count": 15,
   "metadata": {},
   "outputs": [
    {
     "name": "stdout",
     "output_type": "stream",
     "text": [
      "Condition with Minimum review: Generalized Anxiety Disorde\n",
      "Condition with Maximum review: Erectile Dysfunction\n"
     ]
    }
   ],
   "source": [
    "min_review_row = df[df['review'] == df['review'].min()]\n",
    "\n",
    "max_review_row = df[df['review'] == df['review'].max()]\n",
    "\n",
    "min_condition = min_review_row['condition'].iloc[0]\n",
    "max_condition = max_review_row['condition'].iloc[0]\n",
    "\n",
    "print(\"Condition with Minimum review:\", min_condition)\n",
    "print(\"Condition with Maximum review:\", max_condition)"
   ]
  },
  {
   "cell_type": "code",
   "execution_count": 16,
   "metadata": {},
   "outputs": [
    {
     "data": {
      "text/plain": [
       "824"
      ]
     },
     "execution_count": 16,
     "metadata": {},
     "output_type": "execute_result"
    }
   ],
   "source": [
    "(df['condition'].value_counts() < 500).sum()"
   ]
  },
  {
   "cell_type": "markdown",
   "metadata": {},
   "source": [
    "In total, the dataset covers 884 unique conditions.Dataset is heavily skewed towards a few specific conditions. The conditions ‘Birth Control’, ‘Depression’, ‘Pain’, ‘Anxiety’, and ‘Acne’ are significantly more represented in the dataset, each with over 5000 instances.Conversely, there are 824 conditions that have fewer than 500 instances each. This indicates a long tail distribution of conditions, where a large number of conditions each have a small number of instances."
   ]
  },
  {
   "cell_type": "code",
   "execution_count": 17,
   "metadata": {},
   "outputs": [],
   "source": [
    "threshold_count = 100\n",
    "\n",
    "# Get the value counts for each condition\n",
    "condition_counts = df['condition'].value_counts()\n",
    "\n",
    "# Filter conditions based on the threshold count\n",
    "valid_conditions = condition_counts[condition_counts >= threshold_count].index\n",
    "\n",
    "# Filter the DataFrame based on the valid conditions\n",
    "filtered_df = df[df['condition'].isin(valid_conditions)]\n"
   ]
  },
  {
   "cell_type": "code",
   "execution_count": 18,
   "metadata": {},
   "outputs": [
    {
     "data": {
      "text/plain": [
       "150"
      ]
     },
     "execution_count": 18,
     "metadata": {},
     "output_type": "execute_result"
    }
   ],
   "source": [
    "filtered_df['condition'].nunique()"
   ]
  },
  {
   "cell_type": "code",
   "execution_count": 19,
   "metadata": {},
   "outputs": [],
   "source": [
    "groups = {\n",
    "    \"Urinary,Kidney Conditions\": [\"Urinary Tract Stones\", \"Kidney Infections\",\"Urinary Incontinence\",\"Interstitial Cystitis\",\"Overactive Bladder\"],\n",
    "    \"Nervous System\": [\"Vertig\", \"Parkinson's Disease\", \"Sciatica\",\"ADHD\"],\n",
    "    \"Cancer\": [\"Breast Cancer, Metastatic\", \"Prostate Cance\"],\n",
    "    \"Supplements\": [\"Dietary Supplementation\"],\n",
    "    \"Infections\": [\"HIV Infection\",\"Hepatitis C\",\"Bacterial Infection\",\"Urinary Tract Infection\",\"Vaginal Yeast Infection\",\"Kidney Infections\",\"Bladder Infection\",\"Upper Respiratory Tract Infection\"\n",
    "                   \"Helicobacter Pylori Infection\",\"Chlamydia Infection\",\"Pneumonia\"],\n",
    "    \"Musculoskeletal condition\": [\"Gout\"],\n",
    "    \"Respiratory and Pulmonary Conditions\":[\"Tonsillitis/Pharyngitis\", \"Cold Symptoms\", \"Asthma, acute\",\"Strep Throat\",\"COPD\",\"Cough\",\"Allergic Rhinitis\",\"Nasal Congestion\",\"Influenza\"\n",
    "                                            \"Cough and Nasal Congestion\"],\n",
    "    \"Reproductive and Sexual Health:\": [\"Nausea/Vomiting of Pregnancy\", \"Period Pain\",\"Ovarian Cysts\",\" Chronic Endometriosis\",\"Premenstrual Dysphoric Disorder\",\"Menstrual Disorders\",\"Postmenopausal Symptoms\"\n",
    "                           \"Polycystic Ovary Syndrome\",\"Benign Prostatic Hyperplasia\",\"Erectile Dysfunction\",\"Emergency Contraception\",\"Benign Prostatic Hyperplasia (BPH)\",\"Abnormal Uterine Bleeding\"],\n",
    "    \"Metabolic and Endocrine Disorders\":[\"Diabetes, Type 1\",\"Hypothyroidism, After Thyroid Removal\",\"Diabetes, Type 2\",\"Obesity\",\"Weight Loss\"],\n",
    "    \"Eye Conditions\": [\"Dry Eye Disease\"],\n",
    "    \"Mental Health\": [\"Borderline Personality Disorder\",\"Generalized Anxiety Disorder\",\"Panic Disorder\",\"Major Depressive Disorder\",\"Anxiety and Stress\",\"Bipolar Disorder\",\n",
    "                      \"Sedation\",\"Performance Anxiety\",\"Alcohol Withdrawal\",\"Social Anxiety Disorder\",\"Post Traumatic Stress Disorder\",\"Schizophrenia\"],\n",
    "    \"Infections and Immune System\":[\"HIV Infection\",\"Hepatitis C\",\"Bacterial Infection\",\"Helicobacter Pylori Infectio\",\"Chlamydia Infection\",\"Otitis Media\",\"Human Papillomavirus (HPV)\"],\n",
    "    \"Cardiovascular Health\":[\"High Cholesterol\",\"High Blood Pressure\",\"Prevention of Thromboembolism in Atrial Fibrillation\",\"Atrial Fibrillation\"],\n",
    "    \"Gastrointestinal Issues\":[\"GERD\",\"Irritable Bowel Syndrome\",\"Bowel Preparation\",\"Diarrhea\", \"Diverticulitis\",\"Ulcerative Colitis, Active\",\"Constipation, Drug Induced\"\n",
    "                               \"Crohn's Disease\",\"Crohn's Disease, Maintenance\",\"Ulcerative Colitis\",\"Maintenance Inflammatory Conditions\",\"Acute Motion Sickness\"],\n",
    "    \"Neurological and Pain Conditions\":[\"Trigeminal Neuralgia\",\"Cluster Headaches\",\"Seizure Prevention\",\"Peripheral Neuropathy\",\"Diabetic Peripheral Neuropathy\",\"Neuropathic Pain\",\n",
    "                                        \"Epilepsy\",\"Restless Legs Syndrome\",\"Obsessive-Compulsive Disorder\",\"Schizoaffective Disorder\",\"Narcolepsy\",\"Seizures\",\"Headache\",\"Chronic Pain\"\n",
    "                                        \"Multiple Sclerosis\",\"Migraine Prevention\",\"Chronic Pain\",\"Migraine\",\"Insomnia\"],\n",
    "    \"Dermatological Conditions\":[\"Atopic Dermatitis\",\"Eczema\",\"Herpes Simplex, Suppression\",\"Psoriatic Arthritis\",\"Plaque Psoriasis\",\"Rosacea\",\"Cold Sores\",\n",
    "                                 \"Keratosis\",\"Psoriasis\",\"Keratosis\", \"Bacterial Skin Infection\",\"Skin or Soft Tissue Infection\"],\n",
    "    \"Substance Use and Dependence\":[\"Opiate Dependence\",\"Opiate Dependence\",\"Smoking Cessation\"]\n",
    "}"
   ]
  },
  {
   "cell_type": "code",
   "execution_count": 20,
   "metadata": {},
   "outputs": [],
   "source": [
    "for group, conditions in groups.items():\n",
    "    filtered_df.loc[filtered_df['condition'].isin(conditions), 'condition'] = group"
   ]
  },
  {
   "cell_type": "code",
   "execution_count": 21,
   "metadata": {},
   "outputs": [
    {
     "data": {
      "text/plain": [
       "80"
      ]
     },
     "execution_count": 21,
     "metadata": {},
     "output_type": "execute_result"
    }
   ],
   "source": [
    "filtered_df['condition'].nunique()"
   ]
  },
  {
   "cell_type": "code",
   "execution_count": 22,
   "metadata": {},
   "outputs": [
    {
     "data": {
      "text/plain": [
       "Birth Control                                 28788\n",
       "Neurological and Pain Conditions              11760\n",
       "Metabolic and Endocrine Disorders             10022\n",
       "Depression                                     9069\n",
       "Reproductive and Sexual Health:                6970\n",
       "                                              ...  \n",
       "Eye Conditions                                  147\n",
       "Musculoskeletal condition                       105\n",
       "0</span> users found this comment helpful.      104\n",
       "Supplements                                     102\n",
       "Human Papilloma Virus                           102\n",
       "Name: condition, Length: 80, dtype: int64"
      ]
     },
     "execution_count": 22,
     "metadata": {},
     "output_type": "execute_result"
    }
   ],
   "source": [
    "filtered_df['condition'].value_counts()"
   ]
  },
  {
   "cell_type": "code",
   "execution_count": 23,
   "metadata": {},
   "outputs": [],
   "source": [
    "filtered_df = filtered_df[~filtered_df['condition'].str.contains(\"0</span> users found this comment helpful\")]"
   ]
  },
  {
   "cell_type": "code",
   "execution_count": 24,
   "metadata": {},
   "outputs": [
    {
     "data": {
      "text/plain": [
       "79"
      ]
     },
     "execution_count": 24,
     "metadata": {},
     "output_type": "execute_result"
    }
   ],
   "source": [
    "filtered_df['condition'].nunique()"
   ]
  },
  {
   "cell_type": "code",
   "execution_count": 25,
   "metadata": {},
   "outputs": [
    {
     "name": "stdout",
     "output_type": "stream",
     "text": [
      "Label mapping:\n",
      "Acne: 0\n",
      "Alcohol Dependence: 1\n",
      "Allergies: 2\n",
      "Anesthesia: 3\n",
      "Ankylosing Spondylitis: 4\n",
      "Anxiety: 5\n",
      "Asthma: 6\n",
      "Asthma, Maintenance: 7\n",
      "Atrophic Vaginitis: 8\n",
      "Back Pain: 9\n",
      "Bacterial Vaginitis: 10\n",
      "Bipolar Disorde: 11\n",
      "Birth Control: 12\n",
      "Borderline Personality Disorde: 13\n",
      "Breast Cance: 14\n",
      "Bronchitis: 15\n",
      "COPD, Maintenance: 16\n",
      "Cancer: 17\n",
      "Cardiovascular Health: 18\n",
      "Constipation: 19\n",
      "Constipation, Chronic: 20\n",
      "Constipation, Drug Induced: 21\n",
      "Cough and Nasal Congestion: 22\n",
      "Crohn's Disease: 23\n",
      "Depression: 24\n",
      "Dermatological Conditions: 25\n",
      "Endometriosis: 26\n",
      "Eye Conditions: 27\n",
      "Gastrointestinal Issues: 28\n",
      "Generalized Anxiety Disorde: 29\n",
      "Gout, Acute: 30\n",
      "Hashimoto's disease: 31\n",
      "Helicobacter Pylori Infection: 32\n",
      "Herpes Simplex: 33\n",
      "Hot Flashes: 34\n",
      "Human Papilloma Virus: 35\n",
      "Hyperhidrosis: 36\n",
      "Hypogonadism, Male: 37\n",
      "Infections: 38\n",
      "Infections and Immune System: 39\n",
      "Inflammatory Conditions: 40\n",
      "Influenza: 41\n",
      "Major Depressive Disorde: 42\n",
      "Mental Health: 43\n",
      "Metabolic and Endocrine Disorders: 44\n",
      "Motion Sickness: 45\n",
      "Multiple Sclerosis: 46\n",
      "Muscle Spasm: 47\n",
      "Musculoskeletal condition: 48\n",
      "Nausea/Vomiting: 49\n",
      "Nervous System: 50\n",
      "Neurological and Pain Conditions: 51\n",
      "Not Listed / Othe: 52\n",
      "Obsessive Compulsive Disorde: 53\n",
      "Onychomycosis, Toenail: 54\n",
      "Opiate Withdrawal: 55\n",
      "Osteoarthritis: 56\n",
      "Osteoporosis: 57\n",
      "Overactive Bladde: 58\n",
      "Pain: 59\n",
      "Panic Disorde: 60\n",
      "Polycystic Ovary Syndrome: 61\n",
      "Post Traumatic Stress Disorde: 62\n",
      "Postmenopausal Symptoms: 63\n",
      "Premenstrual Dysphoric Disorde: 64\n",
      "Reproductive and Sexual Health:: 65\n",
      "Respiratory and Pulmonary Conditions: 66\n",
      "Rheumatoid Arthritis: 67\n",
      "Schizoaffective Disorde: 68\n",
      "Sinusitis: 69\n",
      "Social Anxiety Disorde: 70\n",
      "Substance Use and Dependence: 71\n",
      "Supplements: 72\n",
      "Underactive Thyroid: 73\n",
      "Upper Respiratory Tract Infection: 74\n",
      "Urinary,Kidney Conditions: 75\n",
      "Urticaria: 76\n",
      "ibromyalgia: 77\n",
      "mance Anxiety: 78\n",
      "                              condition  condition_encoded\n",
      "1                        Nervous System                 50\n",
      "2                         Birth Control                 12\n",
      "3                         Birth Control                 12\n",
      "4          Substance Use and Dependence                 71\n",
      "5       Reproductive and Sexual Health:                 65\n",
      "...                                 ...                ...\n",
      "161292               Alcohol Dependence                  1\n",
      "161293                  Nausea/Vomiting                 49\n",
      "161294             Rheumatoid Arthritis                 67\n",
      "161295              Underactive Thyroid                 73\n",
      "161296            Constipation, Chronic                 20\n",
      "\n",
      "[148311 rows x 2 columns]\n"
     ]
    }
   ],
   "source": [
    "from sklearn.preprocessing import LabelEncoder\n",
    "conditions = filtered_df['condition']\n",
    "\n",
    "label_encoder = LabelEncoder()\n",
    "encoded_conditions = label_encoder.fit_transform(conditions)\n",
    "filtered_df['condition_encoded'] = encoded_conditions\n",
    "\n",
    "# Display the mapping of labels to original conditions\n",
    "label_mapping = dict(zip(label_encoder.classes_, label_encoder.transform(label_encoder.classes_)))\n",
    "print(\"Label mapping:\")\n",
    "for condition, label in label_mapping.items():\n",
    "    print(f\"{condition}: {label}\")\n",
    "\n",
    "print(filtered_df[['condition', 'condition_encoded']])\n"
   ]
  },
  {
   "cell_type": "code",
   "execution_count": 26,
   "metadata": {},
   "outputs": [
    {
     "data": {
      "text/plain": [
       "{'Acne': 0,\n",
       " 'Alcohol Dependence': 1,\n",
       " 'Allergies': 2,\n",
       " 'Anesthesia': 3,\n",
       " 'Ankylosing Spondylitis': 4,\n",
       " 'Anxiety': 5,\n",
       " 'Asthma': 6,\n",
       " 'Asthma, Maintenance': 7,\n",
       " 'Atrophic Vaginitis': 8,\n",
       " 'Back Pain': 9,\n",
       " 'Bacterial Vaginitis': 10,\n",
       " 'Bipolar Disorde': 11,\n",
       " 'Birth Control': 12,\n",
       " 'Borderline Personality Disorde': 13,\n",
       " 'Breast Cance': 14,\n",
       " 'Bronchitis': 15,\n",
       " 'COPD, Maintenance': 16,\n",
       " 'Cancer': 17,\n",
       " 'Cardiovascular Health': 18,\n",
       " 'Constipation': 19,\n",
       " 'Constipation, Chronic': 20,\n",
       " 'Constipation, Drug Induced': 21,\n",
       " 'Cough and Nasal Congestion': 22,\n",
       " \"Crohn's Disease\": 23,\n",
       " 'Depression': 24,\n",
       " 'Dermatological Conditions': 25,\n",
       " 'Endometriosis': 26,\n",
       " 'Eye Conditions': 27,\n",
       " 'Gastrointestinal Issues': 28,\n",
       " 'Generalized Anxiety Disorde': 29,\n",
       " 'Gout, Acute': 30,\n",
       " \"Hashimoto's disease\": 31,\n",
       " 'Helicobacter Pylori Infection': 32,\n",
       " 'Herpes Simplex': 33,\n",
       " 'Hot Flashes': 34,\n",
       " 'Human Papilloma Virus': 35,\n",
       " 'Hyperhidrosis': 36,\n",
       " 'Hypogonadism, Male': 37,\n",
       " 'Infections': 38,\n",
       " 'Infections and Immune System': 39,\n",
       " 'Inflammatory Conditions': 40,\n",
       " 'Influenza': 41,\n",
       " 'Major Depressive Disorde': 42,\n",
       " 'Mental Health': 43,\n",
       " 'Metabolic and Endocrine Disorders': 44,\n",
       " 'Motion Sickness': 45,\n",
       " 'Multiple Sclerosis': 46,\n",
       " 'Muscle Spasm': 47,\n",
       " 'Musculoskeletal condition': 48,\n",
       " 'Nausea/Vomiting': 49,\n",
       " 'Nervous System': 50,\n",
       " 'Neurological and Pain Conditions': 51,\n",
       " 'Not Listed / Othe': 52,\n",
       " 'Obsessive Compulsive Disorde': 53,\n",
       " 'Onychomycosis, Toenail': 54,\n",
       " 'Opiate Withdrawal': 55,\n",
       " 'Osteoarthritis': 56,\n",
       " 'Osteoporosis': 57,\n",
       " 'Overactive Bladde': 58,\n",
       " 'Pain': 59,\n",
       " 'Panic Disorde': 60,\n",
       " 'Polycystic Ovary Syndrome': 61,\n",
       " 'Post Traumatic Stress Disorde': 62,\n",
       " 'Postmenopausal Symptoms': 63,\n",
       " 'Premenstrual Dysphoric Disorde': 64,\n",
       " 'Reproductive and Sexual Health:': 65,\n",
       " 'Respiratory and Pulmonary Conditions': 66,\n",
       " 'Rheumatoid Arthritis': 67,\n",
       " 'Schizoaffective Disorde': 68,\n",
       " 'Sinusitis': 69,\n",
       " 'Social Anxiety Disorde': 70,\n",
       " 'Substance Use and Dependence': 71,\n",
       " 'Supplements': 72,\n",
       " 'Underactive Thyroid': 73,\n",
       " 'Upper Respiratory Tract Infection': 74,\n",
       " 'Urinary,Kidney Conditions': 75,\n",
       " 'Urticaria': 76,\n",
       " 'ibromyalgia': 77,\n",
       " 'mance Anxiety': 78}"
      ]
     },
     "execution_count": 26,
     "metadata": {},
     "output_type": "execute_result"
    }
   ],
   "source": [
    "label_mapping"
   ]
  },
  {
   "cell_type": "code",
   "execution_count": 27,
   "metadata": {},
   "outputs": [
    {
     "data": {
      "text/html": [
       "<div>\n",
       "<style scoped>\n",
       "    .dataframe tbody tr th:only-of-type {\n",
       "        vertical-align: middle;\n",
       "    }\n",
       "\n",
       "    .dataframe tbody tr th {\n",
       "        vertical-align: top;\n",
       "    }\n",
       "\n",
       "    .dataframe thead th {\n",
       "        text-align: right;\n",
       "    }\n",
       "</style>\n",
       "<table border=\"1\" class=\"dataframe\">\n",
       "  <thead>\n",
       "    <tr style=\"text-align: right;\">\n",
       "      <th></th>\n",
       "      <th>uniqueID</th>\n",
       "      <th>drugName</th>\n",
       "      <th>condition</th>\n",
       "      <th>review</th>\n",
       "      <th>rating</th>\n",
       "      <th>date</th>\n",
       "      <th>usefulCount</th>\n",
       "      <th>year</th>\n",
       "      <th>condition_encoded</th>\n",
       "    </tr>\n",
       "  </thead>\n",
       "  <tbody>\n",
       "    <tr>\n",
       "      <th>1</th>\n",
       "      <td>95260</td>\n",
       "      <td>Guanfacine</td>\n",
       "      <td>Nervous System</td>\n",
       "      <td>\"My son is halfway through his fourth week of ...</td>\n",
       "      <td>8</td>\n",
       "      <td>2010-04-27</td>\n",
       "      <td>192</td>\n",
       "      <td>2010</td>\n",
       "      <td>50</td>\n",
       "    </tr>\n",
       "    <tr>\n",
       "      <th>2</th>\n",
       "      <td>92703</td>\n",
       "      <td>Lybrel</td>\n",
       "      <td>Birth Control</td>\n",
       "      <td>\"I used to take another oral contraceptive, wh...</td>\n",
       "      <td>5</td>\n",
       "      <td>2009-12-14</td>\n",
       "      <td>17</td>\n",
       "      <td>2009</td>\n",
       "      <td>12</td>\n",
       "    </tr>\n",
       "    <tr>\n",
       "      <th>3</th>\n",
       "      <td>138000</td>\n",
       "      <td>Ortho Evra</td>\n",
       "      <td>Birth Control</td>\n",
       "      <td>\"This is my first time using any form of birth...</td>\n",
       "      <td>8</td>\n",
       "      <td>2015-11-03</td>\n",
       "      <td>10</td>\n",
       "      <td>2015</td>\n",
       "      <td>12</td>\n",
       "    </tr>\n",
       "    <tr>\n",
       "      <th>4</th>\n",
       "      <td>35696</td>\n",
       "      <td>Buprenorphine / naloxone</td>\n",
       "      <td>Substance Use and Dependence</td>\n",
       "      <td>\"Suboxone has completely turned my life around...</td>\n",
       "      <td>9</td>\n",
       "      <td>2016-11-27</td>\n",
       "      <td>37</td>\n",
       "      <td>2016</td>\n",
       "      <td>71</td>\n",
       "    </tr>\n",
       "    <tr>\n",
       "      <th>5</th>\n",
       "      <td>155963</td>\n",
       "      <td>Cialis</td>\n",
       "      <td>Reproductive and Sexual Health:</td>\n",
       "      <td>\"2nd day on 5mg started to work with rock hard...</td>\n",
       "      <td>2</td>\n",
       "      <td>2015-11-28</td>\n",
       "      <td>43</td>\n",
       "      <td>2015</td>\n",
       "      <td>65</td>\n",
       "    </tr>\n",
       "  </tbody>\n",
       "</table>\n",
       "</div>"
      ],
      "text/plain": [
       "   uniqueID                  drugName                        condition  \\\n",
       "1     95260                Guanfacine                   Nervous System   \n",
       "2     92703                    Lybrel                    Birth Control   \n",
       "3    138000                Ortho Evra                    Birth Control   \n",
       "4     35696  Buprenorphine / naloxone     Substance Use and Dependence   \n",
       "5    155963                    Cialis  Reproductive and Sexual Health:   \n",
       "\n",
       "                                              review  rating       date  \\\n",
       "1  \"My son is halfway through his fourth week of ...       8 2010-04-27   \n",
       "2  \"I used to take another oral contraceptive, wh...       5 2009-12-14   \n",
       "3  \"This is my first time using any form of birth...       8 2015-11-03   \n",
       "4  \"Suboxone has completely turned my life around...       9 2016-11-27   \n",
       "5  \"2nd day on 5mg started to work with rock hard...       2 2015-11-28   \n",
       "\n",
       "   usefulCount  year  condition_encoded  \n",
       "1          192  2010                 50  \n",
       "2           17  2009                 12  \n",
       "3           10  2015                 12  \n",
       "4           37  2016                 71  \n",
       "5           43  2015                 65  "
      ]
     },
     "execution_count": 27,
     "metadata": {},
     "output_type": "execute_result"
    }
   ],
   "source": [
    "filtered_df.head()"
   ]
  },
  {
   "cell_type": "code",
   "execution_count": 28,
   "metadata": {},
   "outputs": [],
   "source": [
    "import re\n",
    "import string\n",
    "from nltk.corpus import stopwords\n",
    "from nltk.stem import PorterStemmer\n",
    "from nltk.stem import WordNetLemmatizer"
   ]
  },
  {
   "cell_type": "code",
   "execution_count": 29,
   "metadata": {},
   "outputs": [],
   "source": [
    "def clean_text(review):\n",
    "    # I. Removing URL\n",
    "    review = re.sub(r'http\\S+', '', review)\n",
    "    \n",
    "    # II. Removing all irrelevant characters (Numbers and Punctuation)\n",
    "    review = re.sub(f\"[{string.punctuation}0-9]\", \"\", review)\n",
    "    \n",
    "    # III. Convert all characters into lowercase\n",
    "    review = review.lower()\n",
    "    \n",
    "    # IV. Tokenization\n",
    "    tokens = review.split()\n",
    "    \n",
    "    # V. Removing Stopwords\n",
    "    stop_words = set(stopwords.words('english'))\n",
    "    tokens = [word for word in tokens if word not in stop_words]\n",
    "    \n",
    "    # VI. Stemming and Lemmatization\n",
    "    stemmer = PorterStemmer()\n",
    "    lemmatizer = WordNetLemmatizer()\n",
    "    tokens = [stemmer.stem(lemmatizer.lemmatize(word)) for word in tokens]\n",
    "    \n",
    "    # VII. Remove the words having length <= 2\n",
    "    tokens = [word for word in tokens if len(word) > 2]\n",
    "    \n",
    "    # VIII. Convert the list of tokens back to a string\n",
    "    cleaned_review = ' '.join(tokens)\n",
    "    \n",
    "    return cleaned_review\n",
    "\n",
    "\n",
    "stop_words = stopwords.words('english')"
   ]
  },
  {
   "cell_type": "code",
   "execution_count": 30,
   "metadata": {},
   "outputs": [],
   "source": [
    "# Apply the clean_text function to the \"Review Text\" column of the DataFrame\n",
    "filtered_df['review'] = filtered_df['review'].apply(clean_text)"
   ]
  },
  {
   "cell_type": "code",
   "execution_count": 31,
   "metadata": {},
   "outputs": [
    {
     "data": {
      "text/plain": [
       "1         son halfway fourth week intuniv becam concern ...\n",
       "2         use take anoth oral contracept pill cycl happi...\n",
       "3         first time use form birth control glad went pa...\n",
       "4         suboxon complet turn life around feel healthie...\n",
       "5         day start work rock hard erect howev experianc...\n",
       "                                ...                        \n",
       "161292    wrote first report midoctob alcohol sinc post ...\n",
       "161293    given surgey immedi becam anxiou could sit sti...\n",
       "161294    limit improv month develop bad rash refus cont...\n",
       "161295    ive thyroid medic year spent first synthroid v...\n",
       "161296    ive chronic constip adult life tri linz work m...\n",
       "Name: review, Length: 148311, dtype: object"
      ]
     },
     "execution_count": 31,
     "metadata": {},
     "output_type": "execute_result"
    }
   ],
   "source": [
    "filtered_df['review']"
   ]
  },
  {
   "cell_type": "code",
   "execution_count": 32,
   "metadata": {},
   "outputs": [],
   "source": [
    "from sklearn.model_selection import train_test_split\n",
    "\n",
    "X_train, X_test, y_train, y_test = train_test_split(filtered_df['review'], filtered_df['condition_encoded'], test_size=0.2, random_state=42)"
   ]
  },
  {
   "cell_type": "code",
   "execution_count": 33,
   "metadata": {},
   "outputs": [],
   "source": [
    "from sklearn.feature_extraction.text import TfidfVectorizer\n",
    "\n",
    "vectorizer = TfidfVectorizer(max_features=5000)\n",
    "X_train_tfidf = vectorizer.fit_transform(X_train)\n",
    "X_test_tfidf = vectorizer.transform(X_test)"
   ]
  },
  {
   "cell_type": "code",
   "execution_count": 35,
   "metadata": {},
   "outputs": [
    {
     "data": {
      "text/html": [
       "<style>#sk-container-id-1 {\n",
       "  /* Definition of color scheme common for light and dark mode */\n",
       "  --sklearn-color-text: black;\n",
       "  --sklearn-color-line: gray;\n",
       "  /* Definition of color scheme for unfitted estimators */\n",
       "  --sklearn-color-unfitted-level-0: #fff5e6;\n",
       "  --sklearn-color-unfitted-level-1: #f6e4d2;\n",
       "  --sklearn-color-unfitted-level-2: #ffe0b3;\n",
       "  --sklearn-color-unfitted-level-3: chocolate;\n",
       "  /* Definition of color scheme for fitted estimators */\n",
       "  --sklearn-color-fitted-level-0: #f0f8ff;\n",
       "  --sklearn-color-fitted-level-1: #d4ebff;\n",
       "  --sklearn-color-fitted-level-2: #b3dbfd;\n",
       "  --sklearn-color-fitted-level-3: cornflowerblue;\n",
       "\n",
       "  /* Specific color for light theme */\n",
       "  --sklearn-color-text-on-default-background: var(--sg-text-color, var(--theme-code-foreground, var(--jp-content-font-color1, black)));\n",
       "  --sklearn-color-background: var(--sg-background-color, var(--theme-background, var(--jp-layout-color0, white)));\n",
       "  --sklearn-color-border-box: var(--sg-text-color, var(--theme-code-foreground, var(--jp-content-font-color1, black)));\n",
       "  --sklearn-color-icon: #696969;\n",
       "\n",
       "  @media (prefers-color-scheme: dark) {\n",
       "    /* Redefinition of color scheme for dark theme */\n",
       "    --sklearn-color-text-on-default-background: var(--sg-text-color, var(--theme-code-foreground, var(--jp-content-font-color1, white)));\n",
       "    --sklearn-color-background: var(--sg-background-color, var(--theme-background, var(--jp-layout-color0, #111)));\n",
       "    --sklearn-color-border-box: var(--sg-text-color, var(--theme-code-foreground, var(--jp-content-font-color1, white)));\n",
       "    --sklearn-color-icon: #878787;\n",
       "  }\n",
       "}\n",
       "\n",
       "#sk-container-id-1 {\n",
       "  color: var(--sklearn-color-text);\n",
       "}\n",
       "\n",
       "#sk-container-id-1 pre {\n",
       "  padding: 0;\n",
       "}\n",
       "\n",
       "#sk-container-id-1 input.sk-hidden--visually {\n",
       "  border: 0;\n",
       "  clip: rect(1px 1px 1px 1px);\n",
       "  clip: rect(1px, 1px, 1px, 1px);\n",
       "  height: 1px;\n",
       "  margin: -1px;\n",
       "  overflow: hidden;\n",
       "  padding: 0;\n",
       "  position: absolute;\n",
       "  width: 1px;\n",
       "}\n",
       "\n",
       "#sk-container-id-1 div.sk-dashed-wrapped {\n",
       "  border: 1px dashed var(--sklearn-color-line);\n",
       "  margin: 0 0.4em 0.5em 0.4em;\n",
       "  box-sizing: border-box;\n",
       "  padding-bottom: 0.4em;\n",
       "  background-color: var(--sklearn-color-background);\n",
       "}\n",
       "\n",
       "#sk-container-id-1 div.sk-container {\n",
       "  /* jupyter's `normalize.less` sets `[hidden] { display: none; }`\n",
       "     but bootstrap.min.css set `[hidden] { display: none !important; }`\n",
       "     so we also need the `!important` here to be able to override the\n",
       "     default hidden behavior on the sphinx rendered scikit-learn.org.\n",
       "     See: https://github.com/scikit-learn/scikit-learn/issues/21755 */\n",
       "  display: inline-block !important;\n",
       "  position: relative;\n",
       "}\n",
       "\n",
       "#sk-container-id-1 div.sk-text-repr-fallback {\n",
       "  display: none;\n",
       "}\n",
       "\n",
       "div.sk-parallel-item,\n",
       "div.sk-serial,\n",
       "div.sk-item {\n",
       "  /* draw centered vertical line to link estimators */\n",
       "  background-image: linear-gradient(var(--sklearn-color-text-on-default-background), var(--sklearn-color-text-on-default-background));\n",
       "  background-size: 2px 100%;\n",
       "  background-repeat: no-repeat;\n",
       "  background-position: center center;\n",
       "}\n",
       "\n",
       "/* Parallel-specific style estimator block */\n",
       "\n",
       "#sk-container-id-1 div.sk-parallel-item::after {\n",
       "  content: \"\";\n",
       "  width: 100%;\n",
       "  border-bottom: 2px solid var(--sklearn-color-text-on-default-background);\n",
       "  flex-grow: 1;\n",
       "}\n",
       "\n",
       "#sk-container-id-1 div.sk-parallel {\n",
       "  display: flex;\n",
       "  align-items: stretch;\n",
       "  justify-content: center;\n",
       "  background-color: var(--sklearn-color-background);\n",
       "  position: relative;\n",
       "}\n",
       "\n",
       "#sk-container-id-1 div.sk-parallel-item {\n",
       "  display: flex;\n",
       "  flex-direction: column;\n",
       "}\n",
       "\n",
       "#sk-container-id-1 div.sk-parallel-item:first-child::after {\n",
       "  align-self: flex-end;\n",
       "  width: 50%;\n",
       "}\n",
       "\n",
       "#sk-container-id-1 div.sk-parallel-item:last-child::after {\n",
       "  align-self: flex-start;\n",
       "  width: 50%;\n",
       "}\n",
       "\n",
       "#sk-container-id-1 div.sk-parallel-item:only-child::after {\n",
       "  width: 0;\n",
       "}\n",
       "\n",
       "/* Serial-specific style estimator block */\n",
       "\n",
       "#sk-container-id-1 div.sk-serial {\n",
       "  display: flex;\n",
       "  flex-direction: column;\n",
       "  align-items: center;\n",
       "  background-color: var(--sklearn-color-background);\n",
       "  padding-right: 1em;\n",
       "  padding-left: 1em;\n",
       "}\n",
       "\n",
       "\n",
       "/* Toggleable style: style used for estimator/Pipeline/ColumnTransformer box that is\n",
       "clickable and can be expanded/collapsed.\n",
       "- Pipeline and ColumnTransformer use this feature and define the default style\n",
       "- Estimators will overwrite some part of the style using the `sk-estimator` class\n",
       "*/\n",
       "\n",
       "/* Pipeline and ColumnTransformer style (default) */\n",
       "\n",
       "#sk-container-id-1 div.sk-toggleable {\n",
       "  /* Default theme specific background. It is overwritten whether we have a\n",
       "  specific estimator or a Pipeline/ColumnTransformer */\n",
       "  background-color: var(--sklearn-color-background);\n",
       "}\n",
       "\n",
       "/* Toggleable label */\n",
       "#sk-container-id-1 label.sk-toggleable__label {\n",
       "  cursor: pointer;\n",
       "  display: block;\n",
       "  width: 100%;\n",
       "  margin-bottom: 0;\n",
       "  padding: 0.5em;\n",
       "  box-sizing: border-box;\n",
       "  text-align: center;\n",
       "}\n",
       "\n",
       "#sk-container-id-1 label.sk-toggleable__label-arrow:before {\n",
       "  /* Arrow on the left of the label */\n",
       "  content: \"▸\";\n",
       "  float: left;\n",
       "  margin-right: 0.25em;\n",
       "  color: var(--sklearn-color-icon);\n",
       "}\n",
       "\n",
       "#sk-container-id-1 label.sk-toggleable__label-arrow:hover:before {\n",
       "  color: var(--sklearn-color-text);\n",
       "}\n",
       "\n",
       "/* Toggleable content - dropdown */\n",
       "\n",
       "#sk-container-id-1 div.sk-toggleable__content {\n",
       "  max-height: 0;\n",
       "  max-width: 0;\n",
       "  overflow: hidden;\n",
       "  text-align: left;\n",
       "  /* unfitted */\n",
       "  background-color: var(--sklearn-color-unfitted-level-0);\n",
       "}\n",
       "\n",
       "#sk-container-id-1 div.sk-toggleable__content.fitted {\n",
       "  /* fitted */\n",
       "  background-color: var(--sklearn-color-fitted-level-0);\n",
       "}\n",
       "\n",
       "#sk-container-id-1 div.sk-toggleable__content pre {\n",
       "  margin: 0.2em;\n",
       "  border-radius: 0.25em;\n",
       "  color: var(--sklearn-color-text);\n",
       "  /* unfitted */\n",
       "  background-color: var(--sklearn-color-unfitted-level-0);\n",
       "}\n",
       "\n",
       "#sk-container-id-1 div.sk-toggleable__content.fitted pre {\n",
       "  /* unfitted */\n",
       "  background-color: var(--sklearn-color-fitted-level-0);\n",
       "}\n",
       "\n",
       "#sk-container-id-1 input.sk-toggleable__control:checked~div.sk-toggleable__content {\n",
       "  /* Expand drop-down */\n",
       "  max-height: 200px;\n",
       "  max-width: 100%;\n",
       "  overflow: auto;\n",
       "}\n",
       "\n",
       "#sk-container-id-1 input.sk-toggleable__control:checked~label.sk-toggleable__label-arrow:before {\n",
       "  content: \"▾\";\n",
       "}\n",
       "\n",
       "/* Pipeline/ColumnTransformer-specific style */\n",
       "\n",
       "#sk-container-id-1 div.sk-label input.sk-toggleable__control:checked~label.sk-toggleable__label {\n",
       "  color: var(--sklearn-color-text);\n",
       "  background-color: var(--sklearn-color-unfitted-level-2);\n",
       "}\n",
       "\n",
       "#sk-container-id-1 div.sk-label.fitted input.sk-toggleable__control:checked~label.sk-toggleable__label {\n",
       "  background-color: var(--sklearn-color-fitted-level-2);\n",
       "}\n",
       "\n",
       "/* Estimator-specific style */\n",
       "\n",
       "/* Colorize estimator box */\n",
       "#sk-container-id-1 div.sk-estimator input.sk-toggleable__control:checked~label.sk-toggleable__label {\n",
       "  /* unfitted */\n",
       "  background-color: var(--sklearn-color-unfitted-level-2);\n",
       "}\n",
       "\n",
       "#sk-container-id-1 div.sk-estimator.fitted input.sk-toggleable__control:checked~label.sk-toggleable__label {\n",
       "  /* fitted */\n",
       "  background-color: var(--sklearn-color-fitted-level-2);\n",
       "}\n",
       "\n",
       "#sk-container-id-1 div.sk-label label.sk-toggleable__label,\n",
       "#sk-container-id-1 div.sk-label label {\n",
       "  /* The background is the default theme color */\n",
       "  color: var(--sklearn-color-text-on-default-background);\n",
       "}\n",
       "\n",
       "/* On hover, darken the color of the background */\n",
       "#sk-container-id-1 div.sk-label:hover label.sk-toggleable__label {\n",
       "  color: var(--sklearn-color-text);\n",
       "  background-color: var(--sklearn-color-unfitted-level-2);\n",
       "}\n",
       "\n",
       "/* Label box, darken color on hover, fitted */\n",
       "#sk-container-id-1 div.sk-label.fitted:hover label.sk-toggleable__label.fitted {\n",
       "  color: var(--sklearn-color-text);\n",
       "  background-color: var(--sklearn-color-fitted-level-2);\n",
       "}\n",
       "\n",
       "/* Estimator label */\n",
       "\n",
       "#sk-container-id-1 div.sk-label label {\n",
       "  font-family: monospace;\n",
       "  font-weight: bold;\n",
       "  display: inline-block;\n",
       "  line-height: 1.2em;\n",
       "}\n",
       "\n",
       "#sk-container-id-1 div.sk-label-container {\n",
       "  text-align: center;\n",
       "}\n",
       "\n",
       "/* Estimator-specific */\n",
       "#sk-container-id-1 div.sk-estimator {\n",
       "  font-family: monospace;\n",
       "  border: 1px dotted var(--sklearn-color-border-box);\n",
       "  border-radius: 0.25em;\n",
       "  box-sizing: border-box;\n",
       "  margin-bottom: 0.5em;\n",
       "  /* unfitted */\n",
       "  background-color: var(--sklearn-color-unfitted-level-0);\n",
       "}\n",
       "\n",
       "#sk-container-id-1 div.sk-estimator.fitted {\n",
       "  /* fitted */\n",
       "  background-color: var(--sklearn-color-fitted-level-0);\n",
       "}\n",
       "\n",
       "/* on hover */\n",
       "#sk-container-id-1 div.sk-estimator:hover {\n",
       "  /* unfitted */\n",
       "  background-color: var(--sklearn-color-unfitted-level-2);\n",
       "}\n",
       "\n",
       "#sk-container-id-1 div.sk-estimator.fitted:hover {\n",
       "  /* fitted */\n",
       "  background-color: var(--sklearn-color-fitted-level-2);\n",
       "}\n",
       "\n",
       "/* Specification for estimator info (e.g. \"i\" and \"?\") */\n",
       "\n",
       "/* Common style for \"i\" and \"?\" */\n",
       "\n",
       ".sk-estimator-doc-link,\n",
       "a:link.sk-estimator-doc-link,\n",
       "a:visited.sk-estimator-doc-link {\n",
       "  float: right;\n",
       "  font-size: smaller;\n",
       "  line-height: 1em;\n",
       "  font-family: monospace;\n",
       "  background-color: var(--sklearn-color-background);\n",
       "  border-radius: 1em;\n",
       "  height: 1em;\n",
       "  width: 1em;\n",
       "  text-decoration: none !important;\n",
       "  margin-left: 1ex;\n",
       "  /* unfitted */\n",
       "  border: var(--sklearn-color-unfitted-level-1) 1pt solid;\n",
       "  color: var(--sklearn-color-unfitted-level-1);\n",
       "}\n",
       "\n",
       ".sk-estimator-doc-link.fitted,\n",
       "a:link.sk-estimator-doc-link.fitted,\n",
       "a:visited.sk-estimator-doc-link.fitted {\n",
       "  /* fitted */\n",
       "  border: var(--sklearn-color-fitted-level-1) 1pt solid;\n",
       "  color: var(--sklearn-color-fitted-level-1);\n",
       "}\n",
       "\n",
       "/* On hover */\n",
       "div.sk-estimator:hover .sk-estimator-doc-link:hover,\n",
       ".sk-estimator-doc-link:hover,\n",
       "div.sk-label-container:hover .sk-estimator-doc-link:hover,\n",
       ".sk-estimator-doc-link:hover {\n",
       "  /* unfitted */\n",
       "  background-color: var(--sklearn-color-unfitted-level-3);\n",
       "  color: var(--sklearn-color-background);\n",
       "  text-decoration: none;\n",
       "}\n",
       "\n",
       "div.sk-estimator.fitted:hover .sk-estimator-doc-link.fitted:hover,\n",
       ".sk-estimator-doc-link.fitted:hover,\n",
       "div.sk-label-container:hover .sk-estimator-doc-link.fitted:hover,\n",
       ".sk-estimator-doc-link.fitted:hover {\n",
       "  /* fitted */\n",
       "  background-color: var(--sklearn-color-fitted-level-3);\n",
       "  color: var(--sklearn-color-background);\n",
       "  text-decoration: none;\n",
       "}\n",
       "\n",
       "/* Span, style for the box shown on hovering the info icon */\n",
       ".sk-estimator-doc-link span {\n",
       "  display: none;\n",
       "  z-index: 9999;\n",
       "  position: relative;\n",
       "  font-weight: normal;\n",
       "  right: .2ex;\n",
       "  padding: .5ex;\n",
       "  margin: .5ex;\n",
       "  width: min-content;\n",
       "  min-width: 20ex;\n",
       "  max-width: 50ex;\n",
       "  color: var(--sklearn-color-text);\n",
       "  box-shadow: 2pt 2pt 4pt #999;\n",
       "  /* unfitted */\n",
       "  background: var(--sklearn-color-unfitted-level-0);\n",
       "  border: .5pt solid var(--sklearn-color-unfitted-level-3);\n",
       "}\n",
       "\n",
       ".sk-estimator-doc-link.fitted span {\n",
       "  /* fitted */\n",
       "  background: var(--sklearn-color-fitted-level-0);\n",
       "  border: var(--sklearn-color-fitted-level-3);\n",
       "}\n",
       "\n",
       ".sk-estimator-doc-link:hover span {\n",
       "  display: block;\n",
       "}\n",
       "\n",
       "/* \"?\"-specific style due to the `<a>` HTML tag */\n",
       "\n",
       "#sk-container-id-1 a.estimator_doc_link {\n",
       "  float: right;\n",
       "  font-size: 1rem;\n",
       "  line-height: 1em;\n",
       "  font-family: monospace;\n",
       "  background-color: var(--sklearn-color-background);\n",
       "  border-radius: 1rem;\n",
       "  height: 1rem;\n",
       "  width: 1rem;\n",
       "  text-decoration: none;\n",
       "  /* unfitted */\n",
       "  color: var(--sklearn-color-unfitted-level-1);\n",
       "  border: var(--sklearn-color-unfitted-level-1) 1pt solid;\n",
       "}\n",
       "\n",
       "#sk-container-id-1 a.estimator_doc_link.fitted {\n",
       "  /* fitted */\n",
       "  border: var(--sklearn-color-fitted-level-1) 1pt solid;\n",
       "  color: var(--sklearn-color-fitted-level-1);\n",
       "}\n",
       "\n",
       "/* On hover */\n",
       "#sk-container-id-1 a.estimator_doc_link:hover {\n",
       "  /* unfitted */\n",
       "  background-color: var(--sklearn-color-unfitted-level-3);\n",
       "  color: var(--sklearn-color-background);\n",
       "  text-decoration: none;\n",
       "}\n",
       "\n",
       "#sk-container-id-1 a.estimator_doc_link.fitted:hover {\n",
       "  /* fitted */\n",
       "  background-color: var(--sklearn-color-fitted-level-3);\n",
       "}\n",
       "</style><div id=\"sk-container-id-1\" class=\"sk-top-container\"><div class=\"sk-text-repr-fallback\"><pre>MultinomialNB()</pre><b>In a Jupyter environment, please rerun this cell to show the HTML representation or trust the notebook. <br />On GitHub, the HTML representation is unable to render, please try loading this page with nbviewer.org.</b></div><div class=\"sk-container\" hidden><div class=\"sk-item\"><div class=\"sk-estimator fitted sk-toggleable\"><input class=\"sk-toggleable__control sk-hidden--visually\" id=\"sk-estimator-id-1\" type=\"checkbox\" checked><label for=\"sk-estimator-id-1\" class=\"sk-toggleable__label fitted sk-toggleable__label-arrow fitted\">&nbsp;&nbsp;MultinomialNB<a class=\"sk-estimator-doc-link fitted\" rel=\"noreferrer\" target=\"_blank\" href=\"https://scikit-learn.org/1.4/modules/generated/sklearn.naive_bayes.MultinomialNB.html\">?<span>Documentation for MultinomialNB</span></a><span class=\"sk-estimator-doc-link fitted\">i<span>Fitted</span></span></label><div class=\"sk-toggleable__content fitted\"><pre>MultinomialNB()</pre></div> </div></div></div></div>"
      ],
      "text/plain": [
       "MultinomialNB()"
      ]
     },
     "execution_count": 35,
     "metadata": {},
     "output_type": "execute_result"
    }
   ],
   "source": [
    "from sklearn.naive_bayes import MultinomialNB\n",
    "clf = MultinomialNB()\n",
    "clf.fit(X_train_tfidf, y_train)"
   ]
  },
  {
   "cell_type": "code",
   "execution_count": 36,
   "metadata": {},
   "outputs": [
    {
     "name": "stdout",
     "output_type": "stream",
     "text": [
      "Accuracy: 0.6335165020395779)\n"
     ]
    }
   ],
   "source": [
    "from sklearn.metrics import accuracy_score,precision_score, recall_score, f1_score\n",
    "\n",
    "y_pred = clf.predict(X_test_tfidf)\n",
    "accuracy = accuracy_score(y_test, y_pred)\n",
    "print(f'Accuracy: {accuracy})')"
   ]
  },
  {
   "cell_type": "code",
   "execution_count": null,
   "metadata": {},
   "outputs": [
    {
     "name": "stdout",
     "output_type": "stream",
     "text": [
      "Precision (Weighted): 0.6269515139492228\n",
      "Recall (Weighted): 0.6335165020395779\n",
      "F1 Score (Weighted): 0.5786423323553767\n"
     ]
    }
   ],
   "source": [
    "precision_weighted = precision_score(y_test, y_pred, average='weighted')\n",
    "recall_weighted = recall_score(y_test, y_pred, average='weighted')\n",
    "f1_weighted = f1_score(y_test, y_pred, average='weighted')\n",
    "\n",
    "print(f'Precision (Weighted): {precision_weighted}')\n",
    "print(f'Recall (Weighted): {recall_weighted}')\n",
    "print(f'F1 Score (Weighted): {f1_weighted}')"
   ]
  },
  {
   "cell_type": "code",
   "execution_count": null,
   "metadata": {},
   "outputs": [],
   "source": [
    "from sklearn.linear_model import LogisticRegression\n",
    "model = LogisticRegression(multi_class='multinomial', solver='saga', penalty='elasticnet', l1_ratio=0.5)\n",
    "\n",
    "model.fit(X_train_tfidf, y_train)\n",
    "\n",
    "y_pred = model.predict(X_test_tfidf)\n",
    "\n",
    "accuracy = accuracy_score(y_test, y_pred)"
   ]
  },
  {
   "cell_type": "code",
   "execution_count": null,
   "metadata": {},
   "outputs": [
    {
     "name": "stdout",
     "output_type": "stream",
     "text": [
      "Accuracy: 0.7367090314533257\n",
      "Precision (Weighted): 0.7349847909970116\n",
      "Recall (Weighted): 0.7367090314533257\n",
      "F1 Score (Weighted): 0.7232480559628806\n"
     ]
    }
   ],
   "source": [
    "print(f'Accuracy: {accuracy}')\n",
    "precision_weighted = precision_score(y_test, y_pred, average='weighted')\n",
    "recall_weighted = recall_score(y_test, y_pred, average='weighted')\n",
    "f1_weighted = f1_score(y_test, y_pred, average='weighted')\n",
    "\n",
    "print(f'Precision (Weighted): {precision_weighted}')\n",
    "print(f'Recall (Weighted): {recall_weighted}')\n",
    "print(f'F1 Score (Weighted): {f1_weighted}')"
   ]
  },
  {
   "cell_type": "code",
   "execution_count": null,
   "metadata": {},
   "outputs": [
    {
     "name": "stdout",
     "output_type": "stream",
     "text": [
      "Accuracy: 0.8046724876108283)\n",
      "Precision (Weighted): 0.8205344246776498\n",
      "Recall (Weighted): 0.8046724876108283\n",
      "F1 Score (Weighted): 0.7969805839331867\n"
     ]
    }
   ],
   "source": [
    "from sklearn.ensemble import RandomForestClassifier\n",
    "from sklearn.metrics import precision_score, recall_score, f1_score\n",
    "\n",
    "rf_classifier = RandomForestClassifier(n_estimators=100, random_state=42)\n",
    "\n",
    "rf_classifier.fit(X_train_tfidf, y_train)\n",
    "\n",
    "y_pred = rf_classifier.predict(X_test_tfidf)\n",
    "accuracy = accuracy_score(y_test, y_pred)\n",
    "print(f'Accuracy: {accuracy})')\n",
    "\n",
    "\n",
    "precision_weighted = precision_score(y_test, y_pred, average='weighted')\n",
    "recall_weighted = recall_score(y_test, y_pred, average='weighted')\n",
    "f1_weighted = f1_score(y_test, y_pred, average='weighted')\n",
    "\n",
    "\n",
    "print(f'Precision (Weighted): {precision_weighted}')\n",
    "print(f'Recall (Weighted): {recall_weighted}')\n",
    "print(f'F1 Score (Weighted): {f1_weighted}')"
   ]
  },
  {
   "cell_type": "code",
   "execution_count": 38,
   "metadata": {},
   "outputs": [
    {
     "data": {
      "text/plain": [
       "(118648, 5000)"
      ]
     },
     "execution_count": 38,
     "metadata": {},
     "output_type": "execute_result"
    }
   ],
   "source": [
    "X_train_tfidf.shape"
   ]
  },
  {
   "cell_type": "code",
   "execution_count": 43,
   "metadata": {},
   "outputs": [
    {
     "name": "stdout",
     "output_type": "stream",
     "text": [
      "Accuracy: 0.7279776152108688\n"
     ]
    }
   ],
   "source": [
    "from sklearn.linear_model import PassiveAggressiveClassifier\n",
    "pa_classifier = PassiveAggressiveClassifier()\n",
    "\n",
    "batch_size = 256\n",
    "num_samples = X_train_tfidf.shape[0]\n",
    "\n",
    "for i in range(0, num_samples, batch_size):\n",
    "    X_batch = X_train_tfidf[i:i + batch_size]\n",
    "    y_batch = y_train[i:i + batch_size]\n",
    "    pa_classifier.partial_fit(X_batch, y_batch, classes=np.unique(y_train))\n",
    "\n",
    "# Evaluate the model on the testing set\n",
    "y_pred = pa_classifier.predict(X_test_tfidf)\n",
    "accuracy = accuracy_score(y_test, y_pred)\n",
    "print(f\"Accuracy: {accuracy}\")"
   ]
  },
  {
   "cell_type": "code",
   "execution_count": null,
   "metadata": {},
   "outputs": [
    {
     "name": "stdout",
     "output_type": "stream",
     "text": [
      "Precision (Weighted): 0.7150514040761741\n",
      "Recall (Weighted): 0.7219768735461686\n",
      "F1 Score (Weighted): 0.7147631080268719\n"
     ]
    }
   ],
   "source": [
    "precision_weighted = precision_score(y_test, y_pred, average='weighted')\n",
    "recall_weighted = recall_score(y_test, y_pred, average='weighted')\n",
    "f1_weighted = f1_score(y_test, y_pred, average='weighted')\n",
    "\n",
    "\n",
    "print(f'Precision (Weighted): {precision_weighted}')\n",
    "print(f'Recall (Weighted): {recall_weighted}')\n",
    "print(f'F1 Score (Weighted): {f1_weighted}')"
   ]
  },
  {
   "cell_type": "code",
   "execution_count": 44,
   "metadata": {},
   "outputs": [
    {
     "name": "stdout",
     "output_type": "stream",
     "text": [
      "Accuracy: 0.7165829484543034\n"
     ]
    }
   ],
   "source": [
    "from sklearn.linear_model import SGDClassifier\n",
    "sgd_classifier = SGDClassifier()\n",
    "\n",
    "batch_size = 256\n",
    "num_samples = X_train_tfidf.shape[0]\n",
    "\n",
    "for i in range(0, num_samples, batch_size):\n",
    "    X_batch = X_train_tfidf[i:i + batch_size]\n",
    "    y_batch = y_train[i:i + batch_size]\n",
    "    sgd_classifier.partial_fit(X_batch, y_batch, classes=np.unique(y_train))\n",
    "\n",
    "# Evaluate the model on the testing set\n",
    "y_pred = sgd_classifier.predict(X_test_tfidf)\n",
    "accuracy = accuracy_score(y_test, y_pred)\n",
    "print(f\"Accuracy: {accuracy}\")"
   ]
  },
  {
   "cell_type": "code",
   "execution_count": null,
   "metadata": {},
   "outputs": [
    {
     "name": "stdout",
     "output_type": "stream",
     "text": [
      "Best Hyperparameters: {'alpha': 0.0001, 'learning_rate': 'optimal', 'loss': 'modified_huber', 'penalty': 'l2'}\n",
      "Validation Accuracy with Best Model: 0.7411715128529288\n",
      "Testing Accuracy with Best Model: 0.7422040926406634\n"
     ]
    }
   ],
   "source": [
    "from sklearn.model_selection import train_test_split, GridSearchCV\n",
    "param_grid = {\n",
    "    'loss': ['hinge', 'log', 'modified_huber'],\n",
    "    'alpha': [0.0001, 0.001, 0.01, 0.1],\n",
    "    'penalty': ['l2', 'l1', 'elasticnet'],\n",
    "    'learning_rate': ['constant', 'optimal', 'invscaling', 'adaptive'],\n",
    "}\n",
    "\n",
    "# Split the data\n",
    "X_train_split, X_val, y_train_split, y_val = train_test_split(X_train_tfidf, y_train, test_size=0.2, random_state=42)\n",
    "\n",
    "# Initialize GridSearchCV\n",
    "grid_search = GridSearchCV(sgd_classifier, param_grid, cv=3, scoring='accuracy')\n",
    "\n",
    "# Fit the grid search to the data\n",
    "grid_search.fit(X_train_split, y_train_split)\n",
    "\n",
    "# Print the best hyperparameters\n",
    "print(\"Best Hyperparameters:\", grid_search.best_params_)\n",
    "\n",
    "# Evaluate the best model on the validation set\n",
    "best_model = grid_search.best_estimator_\n",
    "y_val_pred = best_model.predict(X_val)\n",
    "val_accuracy = accuracy_score(y_val, y_val_pred)\n",
    "print(f\"Validation Accuracy with Best Model: {val_accuracy}\")\n",
    "\n",
    "# Evaluate the best model on the testing set\n",
    "y_test_pred = best_model.predict(X_test_tfidf)\n",
    "test_accuracy = accuracy_score(y_test, y_test_pred)\n",
    "print(f\"Testing Accuracy with Best Model: {test_accuracy}\")"
   ]
  },
  {
   "cell_type": "code",
   "execution_count": null,
   "metadata": {},
   "outputs": [
    {
     "name": "stdout",
     "output_type": "stream",
     "text": [
      "Accuracy: 0.7441931025182887\n"
     ]
    }
   ],
   "source": [
    "import xgboost as xgb\n",
    "from sklearn.metrics import accuracy_score\n",
    "\n",
    "\n",
    "dtrain = xgb.DMatrix(X_train, label=y_train)\n",
    "dtest = xgb.DMatrix(X_test, label=y_test)\n",
    "\n",
    "# Define XGBoost parameters\n",
    "params = {\n",
    "    'objective': 'multi:softmax',  # Multiclass classification\n",
    "    'num_class': len(set(y_train)),  # No of classes\n",
    "    'eval_metric': 'merror',  # Evaluation metric\n",
    "    'eta': 0.1,  # Learning rate\n",
    "    'max_depth': 6,  # Maximum depth of a tree\n",
    "    'subsample': 0.8,  # Subsample ratio of the training instances\n",
    "    'colsample_bytree': 0.8,  # Subsample ratio of columns when constructing each tree\n",
    "    'seed': 42\n",
    "}\n",
    "\n",
    "# Train the XGBoost model\n",
    "num_rounds = 100  # Number of boosting rounds\n",
    "xgb_model = xgb.train(params, dtrain, num_rounds)\n",
    "\n",
    "# Predict on the test set\n",
    "y_pred = xgb_model.predict(dtest)\n",
    "\n",
    "\n",
    "y_pred = y_pred.astype(int)\n",
    "\n",
    "# Calculate accuracy\n",
    "accuracy = accuracy_score(y_test, y_pred)\n",
    "print(f'Accuracy: {accuracy}') "
   ]
  },
  {
   "cell_type": "code",
   "execution_count": null,
   "metadata": {},
   "outputs": [
    {
     "name": "stdout",
     "output_type": "stream",
     "text": [
      "Predicted Condition for the New Input Text:\n",
      "Depression\n"
     ]
    }
   ],
   "source": [
    "# Example of a new input text\n",
    "\n",
    "new_text = \"I&#039;ve tried a few antidepressants over the years (citalopram, fluoxetine, amitriptyline), but none of those helped with my depression, insomnia &amp; anxiety. My doctor suggested and changed me onto 45mg mirtazapine and this medicine has saved my life. Thankfully I have had no side effects especially the most common - weight gain, I&#039;ve actually lost alot of weight. I still have suicidal thoughts but mirtazapine has saved me.\"\n",
    "206473,\"Mesalamine\",\"Crohn's Disease, Maintenance\",\"My son has Crohn&#039;s disease and has done very well on the Asacol.  He has no complaints and shows no side effects.  He has taken as many as nine tablets per day at one time.  I&#039;ve been very happy with the results, reducing his bouts of diarrhea drastically.\"\n",
    "\n",
    "\n",
    "\n",
    "# Preprocess the new input text using the clean_text function\n",
    "preprocessed_text = clean_text(new_text)\n",
    "\n",
    "# Transform the preprocessed text into TF-IDF features using the same vectorizer\n",
    "new_text_features = vectorizer.transform([preprocessed_text])\n",
    "\n",
    "# Make predictions using the trained logistic regression model\n",
    "predicted_condition = model.predict(new_text_features)\n",
    "\n",
    "predicted_condition_name = label_encoder.inverse_transform([predicted_condition])[0]\n",
    "\n",
    "\n",
    "# Display the predicted condition\n",
    "print(\"Predicted Condition for the New Input Text:\")\n",
    "print(predicted_condition_name)\n"
   ]
  },
  {
   "cell_type": "code",
   "execution_count": null,
   "metadata": {},
   "outputs": [],
   "source": [
    "\n",
    "import joblib\n",
    "\n",
    "# Save TF-IDF vectorizer to a Joblib file\n",
    "with open('tfidf_vectorizer.joblib', 'wb') as file:\n",
    "    joblib.dump(vectorizer, file)\n",
    "\n",
    "\n",
    "# with open('rf_classifier.Joblib', 'wb') as file:\n",
    "#     joblib.dump(rf_classifier, file)"
   ]
  },
  {
   "cell_type": "code",
   "execution_count": null,
   "metadata": {},
   "outputs": [],
   "source": [
    "with open('label_encoder.joblib', 'wb') as file:\n",
    "    joblib.dump(label_encoder, file)"
   ]
  },
  {
   "cell_type": "code",
   "execution_count": null,
   "metadata": {},
   "outputs": [],
   "source": [
    "# Save Logistic Regression model to a Joblib file\n",
    "with open('model.joblib', 'wb') as file:\n",
    "    joblib.dump(model, file)"
   ]
  },
  {
   "cell_type": "code",
   "execution_count": 5,
   "metadata": {},
   "outputs": [
    {
     "data": {
      "text/plain": [
       "'Anxiety and Stress'"
      ]
     },
     "execution_count": 5,
     "metadata": {},
     "output_type": "execute_result"
    }
   ],
   "source": [
    "df['condition'][1256]"
   ]
  },
  {
   "cell_type": "code",
   "execution_count": 6,
   "metadata": {},
   "outputs": [
    {
     "data": {
      "text/plain": [
       "'\"I was prescribed Sertraline a few days ago after having a severe panic attack (yet again). After explaining my family history to the doctor he concluded that my anxiety was probably caused by an underlying depression/ slight bipolar disorder that was never diagnosed or treated. As much as I tried to wish I was &quot;normal&quot; and denied having the same issues as many of my family members I just have to accept that I have inherited that gene. I am still nervous about being on medicines but I am hoping it helps to get my emotions under control.\"'"
      ]
     },
     "execution_count": 6,
     "metadata": {},
     "output_type": "execute_result"
    }
   ],
   "source": [
    "df['review'][1256]"
   ]
  },
  {
   "cell_type": "code",
   "execution_count": null,
   "metadata": {},
   "outputs": [],
   "source": []
  }
 ],
 "metadata": {
  "kernelspec": {
   "display_name": "Capstone",
   "language": "python",
   "name": "python3"
  },
  "language_info": {
   "codemirror_mode": {
    "name": "ipython",
    "version": 3
   },
   "file_extension": ".py",
   "mimetype": "text/x-python",
   "name": "python",
   "nbconvert_exporter": "python",
   "pygments_lexer": "ipython3",
   "version": "3.11.5"
  }
 },
 "nbformat": 4,
 "nbformat_minor": 2
}
